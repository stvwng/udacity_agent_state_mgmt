{
 "cells": [
  {
   "cell_type": "markdown",
   "id": "730cba22",
   "metadata": {},
   "source": [
    "# State Management with StateMachine\n",
    "This notebook demonstrates how to work with state management using a StateMachine implementation. We'll explore how to create, manage, and control workflow states in a structured way.\n",
    "\n",
    "## What we'll learn:\n",
    "- Basic state machine concepts and implementation\n",
    "- Creating and connecting workflow steps\n",
    "- Managing state transitions and data flow\n",
    "- Working with routing and loops in state machines\n",
    "- Understanding state snapshots and execution flow"
   ]
  },
  {
   "cell_type": "markdown",
   "id": "4b150d2a",
   "metadata": {},
   "source": [
    "### Setup"
   ]
  },
  {
   "cell_type": "code",
   "execution_count": 1,
   "id": "6c52e2d2",
   "metadata": {},
   "outputs": [],
   "source": [
    "from typing import TypedDict\n",
    "from lib.state_machine import (\n",
    "    StateMachine,\n",
    "    Step,\n",
    "    EntryPoint,\n",
    "    Termination,\n",
    ")"
   ]
  },
  {
   "cell_type": "markdown",
   "id": "eefdfe8d",
   "metadata": {},
   "source": [
    "## Basic State Machine Concepts\n",
    "Let's start with a simple example that demonstrates the core concepts of our state machine:\n",
    "1. Defining state schema\n",
    "2. Creating steps\n",
    "3. Connecting steps\n",
    "4. Running the workflow"
   ]
  },
  {
   "cell_type": "markdown",
   "id": "8fb6cde8",
   "metadata": {},
   "source": [
    "**Creating the Schema and the State Machine**"
   ]
  },
  {
   "cell_type": "code",
   "execution_count": 2,
   "id": "99d54277",
   "metadata": {},
   "outputs": [],
   "source": [
    "class Schema(TypedDict):\n",
    "    \"\"\"Schema defining the structure of our state.\n",
    "    \n",
    "    Attributes:\n",
    "        input: The input value to process\n",
    "        output: The processed output value\n",
    "    \"\"\"\n",
    "    input: int\n",
    "    output: int"
   ]
  },
  {
   "cell_type": "code",
   "execution_count": 3,
   "id": "c2afea8b",
   "metadata": {},
   "outputs": [],
   "source": [
    "# Create our state machine instance\n",
    "workflow = StateMachine(Schema)"
   ]
  },
  {
   "cell_type": "markdown",
   "id": "d40ea822",
   "metadata": {},
   "source": [
    "**Defining the logic for Steps**"
   ]
  },
  {
   "cell_type": "code",
   "execution_count": 4,
   "id": "b26b75e9",
   "metadata": {},
   "outputs": [],
   "source": [
    "def step_input(state: Schema) -> Schema:\n",
    "    \"\"\"First step: Increment the input value.\n",
    "    \n",
    "    Args:\n",
    "        state: Current state containing input value\n",
    "        \n",
    "    Returns:\n",
    "        Updated state with incremented value in output\n",
    "    \"\"\"\n",
    "    return {\"output\": state[\"input\"] + 1, \"random\": 10}\n",
    "\n"
   ]
  },
  {
   "cell_type": "code",
   "execution_count": 5,
   "id": "7ff44f67",
   "metadata": {},
   "outputs": [],
   "source": [
    "def step_double(state: Schema) -> Schema:\n",
    "    \"\"\"Second step: Double the previous output.\n",
    "    \n",
    "    Args:\n",
    "        state: Current state containing output from previous step\n",
    "        \n",
    "    Returns:\n",
    "        Updated state with doubled output value\n",
    "    \"\"\"\n",
    "    return {\"output\": state[\"output\"] * 2}\n"
   ]
  },
  {
   "cell_type": "markdown",
   "id": "36e54595",
   "metadata": {},
   "source": [
    "**Creating and Connecting Steps**"
   ]
  },
  {
   "cell_type": "code",
   "execution_count": 6,
   "id": "715d8af4",
   "metadata": {},
   "outputs": [],
   "source": [
    "entry = EntryPoint()\n",
    "s1 = Step(\"input\", step_input)\n",
    "s2 = Step(\"double\", step_double)\n",
    "termination = Termination()"
   ]
  },
  {
   "cell_type": "code",
   "execution_count": 7,
   "id": "98192469",
   "metadata": {},
   "outputs": [],
   "source": [
    "workflow.add_steps([entry, s1, s2, termination])"
   ]
  },
  {
   "cell_type": "code",
   "execution_count": 8,
   "id": "7ef4ea11",
   "metadata": {},
   "outputs": [],
   "source": [
    "workflow.connect(entry, s1)\n",
    "workflow.connect(s1, s2)\n",
    "workflow.connect(s2, termination)"
   ]
  },
  {
   "cell_type": "code",
   "execution_count": 9,
   "id": "0ee8aa7c",
   "metadata": {},
   "outputs": [
    {
     "data": {
      "text/plain": [
       "{'__entry__': [Transition('__entry__' -> ['input'])],\n",
       " 'input': [Transition('input' -> ['double'])],\n",
       " 'double': [Transition('double' -> ['__termination__'])]}"
      ]
     },
     "execution_count": 9,
     "metadata": {},
     "output_type": "execute_result"
    }
   ],
   "source": [
    "workflow.transitions"
   ]
  },
  {
   "cell_type": "markdown",
   "id": "0931a9f4",
   "metadata": {},
   "source": [
    "**Running the Workflow**"
   ]
  },
  {
   "cell_type": "code",
   "execution_count": 10,
   "id": "8c3ab77f",
   "metadata": {},
   "outputs": [
    {
     "name": "stdout",
     "output_type": "stream",
     "text": [
      "[StateMachine] Starting: __entry__\n",
      "[StateMachine] Executing step: input\n",
      "[StateMachine] Executing step: double\n",
      "[StateMachine] Terminating: __termination__\n"
     ]
    },
    {
     "data": {
      "text/plain": [
       "Run('0aeba1b1-493a-4285-a9b6-0c747f7365f8')"
      ]
     },
     "execution_count": 10,
     "metadata": {},
     "output_type": "execute_result"
    }
   ],
   "source": [
    "initial_state = {\"input\": 4}\n",
    "run_object = workflow.run(initial_state)\n",
    "run_object"
   ]
  },
  {
   "cell_type": "code",
   "execution_count": 11,
   "id": "48310b3a",
   "metadata": {},
   "outputs": [
    {
     "data": {
      "text/plain": [
       "[Snapshot('417892c0-60f3-4ab4-8b37-eeeb5f00b814') @ [2025-10-04 11:33:44.505866]: __entry__.State({'input': 4}),\n",
       " Snapshot('b5231091-79c6-4010-a716-8bbef39e708a') @ [2025-10-04 11:33:44.505931]: input.State({'input': 4, 'output': 5}),\n",
       " Snapshot('3a0a48cb-3428-4bc3-867c-8e1c7e06f3f7') @ [2025-10-04 11:33:44.505983]: double.State({'input': 4, 'output': 10})]"
      ]
     },
     "execution_count": 11,
     "metadata": {},
     "output_type": "execute_result"
    }
   ],
   "source": [
    "run_object.snapshots"
   ]
  },
  {
   "cell_type": "markdown",
   "id": "d11cdc8e",
   "metadata": {},
   "source": [
    "## Advanced State Management: Routing and Loops\n",
    "Now we'll explore more complex state management patterns including:\n",
    "- Conditional routing between steps\n",
    "- Creating loops in the workflow\n",
    "- Managing state through multiple iterations"
   ]
  },
  {
   "cell_type": "code",
   "execution_count": 12,
   "id": "60018610",
   "metadata": {},
   "outputs": [],
   "source": [
    "class CounterSchema(TypedDict):\n",
    "    \"\"\"Schema for a counter-based workflow.\n",
    "    \n",
    "    Attributes:\n",
    "        count: Current counter value\n",
    "        max_value: Maximum value before termination\n",
    "    \"\"\"\n",
    "    count: int\n",
    "    max_value: int"
   ]
  },
  {
   "cell_type": "code",
   "execution_count": 13,
   "id": "31531a68",
   "metadata": {},
   "outputs": [],
   "source": [
    "workflow = StateMachine(CounterSchema)"
   ]
  },
  {
   "cell_type": "code",
   "execution_count": 14,
   "id": "43ea6c00",
   "metadata": {},
   "outputs": [],
   "source": [
    "def increment_counter(state: CounterSchema) -> CounterSchema:\n",
    "    \"\"\"Increment the counter value.\n",
    "    \n",
    "    Args:\n",
    "        state: Current state with counter value\n",
    "        \n",
    "    Returns:\n",
    "        Updated state with incremented counter\n",
    "    \"\"\"\n",
    "    return {\"count\": state[\"count\"] + 1}"
   ]
  },
  {
   "cell_type": "code",
   "execution_count": 15,
   "id": "7835f893",
   "metadata": {},
   "outputs": [],
   "source": [
    "# Create steps\n",
    "entry = EntryPoint()\n",
    "increment = Step(\"increment\", increment_counter)\n",
    "termination = Termination()"
   ]
  },
  {
   "cell_type": "code",
   "execution_count": 16,
   "id": "76dfc504",
   "metadata": {},
   "outputs": [],
   "source": [
    "workflow.add_steps([entry, increment, termination])"
   ]
  },
  {
   "cell_type": "code",
   "execution_count": 17,
   "id": "f7fd40fd",
   "metadata": {},
   "outputs": [],
   "source": [
    "# Router logic\n",
    "def check_counter(state: CounterSchema) -> Step:\n",
    "    \"\"\"Determine next step based on counter value.\n",
    "    \n",
    "    Args:\n",
    "        state: Current state with counter and max value\n",
    "        \n",
    "    Returns:\n",
    "        Next step to execute (increment or terminate)\n",
    "    \"\"\"\n",
    "    if state[\"count\"] >= state[\"max_value\"]:\n",
    "        return termination\n",
    "    return increment"
   ]
  },
  {
   "cell_type": "code",
   "execution_count": 18,
   "id": "a372fded",
   "metadata": {},
   "outputs": [],
   "source": [
    "# Connect steps with a loop in increment\n",
    "workflow.connect(entry, increment)\n",
    "workflow.connect(increment, [increment, termination], check_counter)"
   ]
  },
  {
   "cell_type": "code",
   "execution_count": 19,
   "id": "c5fc83f4",
   "metadata": {},
   "outputs": [
    {
     "data": {
      "text/plain": [
       "{'__entry__': [Transition('__entry__' -> ['increment'])],\n",
       " 'increment': [Transition('increment' -> ['increment', '__termination__'])]}"
      ]
     },
     "execution_count": 19,
     "metadata": {},
     "output_type": "execute_result"
    }
   ],
   "source": [
    "workflow.transitions"
   ]
  },
  {
   "cell_type": "code",
   "execution_count": 20,
   "id": "6ec591ce",
   "metadata": {},
   "outputs": [
    {
     "name": "stdout",
     "output_type": "stream",
     "text": [
      "[StateMachine] Starting: __entry__\n",
      "[StateMachine] Executing step: increment\n",
      "[StateMachine] Executing step: increment\n",
      "[StateMachine] Executing step: increment\n",
      "[StateMachine] Terminating: __termination__\n"
     ]
    },
    {
     "data": {
      "text/plain": [
       "Run('bfd3feaa-a245-410d-bcfa-385dc69ad933')"
      ]
     },
     "execution_count": 20,
     "metadata": {},
     "output_type": "execute_result"
    }
   ],
   "source": [
    "initial_state = {\"count\": 0, \"max_value\": 3}\n",
    "run_object = workflow.run(initial_state)\n",
    "run_object"
   ]
  },
  {
   "cell_type": "code",
   "execution_count": 21,
   "id": "3bb67171",
   "metadata": {},
   "outputs": [
    {
     "data": {
      "text/plain": [
       "[Snapshot('fabc9ace-8cb0-4925-89c0-e7eab790054e') @ [2025-10-04 11:34:16.473710]: __entry__.State({'count': 0, 'max_value': 3}),\n",
       " Snapshot('f04e1fe2-45c6-4344-b232-b67ed4a26655') @ [2025-10-04 11:34:16.473768]: increment.State({'count': 1, 'max_value': 3}),\n",
       " Snapshot('c79b0730-21f2-4cbe-b082-2b28c65de48b') @ [2025-10-04 11:34:16.473834]: increment.State({'count': 2, 'max_value': 3}),\n",
       " Snapshot('d7eada21-4a16-461e-b534-ab244f160016') @ [2025-10-04 11:34:16.473898]: increment.State({'count': 3, 'max_value': 3})]"
      ]
     },
     "execution_count": 21,
     "metadata": {},
     "output_type": "execute_result"
    }
   ],
   "source": [
    "run_object.snapshots"
   ]
  },
  {
   "cell_type": "code",
   "execution_count": 22,
   "id": "65fca299",
   "metadata": {},
   "outputs": [
    {
     "data": {
      "text/plain": [
       "{'count': 3, 'max_value': 3}"
      ]
     },
     "execution_count": 22,
     "metadata": {},
     "output_type": "execute_result"
    }
   ],
   "source": [
    "run_object.get_final_state()"
   ]
  },
  {
   "cell_type": "code",
   "execution_count": null,
   "id": "b1cbace2",
   "metadata": {},
   "outputs": [],
   "source": []
  }
 ],
 "metadata": {
  "kernelspec": {
   "display_name": ".venv",
   "language": "python",
   "name": "python3"
  },
  "language_info": {
   "codemirror_mode": {
    "name": "ipython",
    "version": 3
   },
   "file_extension": ".py",
   "mimetype": "text/x-python",
   "name": "python",
   "nbconvert_exporter": "python",
   "pygments_lexer": "ipython3",
   "version": "3.11.7"
  }
 },
 "nbformat": 4,
 "nbformat_minor": 5
}
